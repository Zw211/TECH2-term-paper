{
 "cells": [
  {
   "cell_type": "code",
   "execution_count": null,
   "id": "aa896bcc-a181-49e4-bcac-d5ecfbc0f484",
   "metadata": {},
   "outputs": [],
   "source": [
    "## TASK 1\n",
    "import pandas as pd\n",
    "import glob\n",
    "import os\n",
    "import matplotlib.pyplot as plt\n",
    "\n",
    "%run import_files.ipynb\n",
    "\n",
    "data_day_ahead, data_physical_flow = import_csv_files()"
   ]
  },
  {
   "cell_type": "code",
   "execution_count": null,
   "id": "da9f9f90-2225-4e6b-8492-ee1833a347a7",
   "metadata": {},
   "outputs": [],
   "source": [
    "data_day_ahead.head()\n",
    "data_day_ahead_NO2 = data_day_ahead[data_day_ahead['MapCode'].isin([\"NO2\"])]\n",
    "data_day_ahead_DE = data_day_ahead[data_day_ahead['MapCode'].isin([\"DE_LU\"])]\n",
    "display(data_day_ahead_NO2)\n",
    "\n",
    "fig, ax = plt.subplots(1, 2, figsize=(15, 6))\n",
    "\n",
    "data_day_ahead_NO2 = data_day_ahead_NO2.sort_values('DateTime')\n",
    "data_day_ahead_DE = data_day_ahead_DE.sort_values('DateTime')\n",
    "\n",
    "ax[0].axvline(x=pd.Timestamp(\"2020-12-09\"), color='red', linestyle='--')\n",
    "ax[1].axvline(x=pd.Timestamp(\"2020-12-09\"), color='red', linestyle='--')\n",
    "\n",
    "\n",
    "ax[0].plot(data_day_ahead_NO2['DateTime'], data_day_ahead_NO2['Price'])\n",
    "ax[0].set_title(\"Day Ahead Prices for NO2\")\n",
    "ax[0].set_ylabel(\"Price\")\n",
    "\n",
    "ax[1].plot(data_day_ahead_DE['DateTime'], data_day_ahead_DE['Price'])\n",
    "ax[1].set_title(\"Day Ahead Prices for Germany\")\n",
    "ax[1].set_ylabel(\"Price\")"
   ]
  }
 ],
 "metadata": {
  "kernelspec": {
   "display_name": "Python 3 (ipykernel)",
   "language": "python",
   "name": "python3"
  },
  "language_info": {
   "codemirror_mode": {
    "name": "ipython",
    "version": 3
   },
   "file_extension": ".py",
   "mimetype": "text/x-python",
   "name": "python",
   "nbconvert_exporter": "python",
   "pygments_lexer": "ipython3",
   "version": "3.12.4"
  }
 },
 "nbformat": 4,
 "nbformat_minor": 5
}
