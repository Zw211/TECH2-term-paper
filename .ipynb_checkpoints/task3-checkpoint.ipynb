{
 "cells": [
  {
   "cell_type": "markdown",
   "metadata": {},
   "source": [
    "**Task 4**\n",
    "\n",
    "**Step 1** **- Importing the datasets**"
   ]
  },
  {
   "cell_type": "code",
   "execution_count": null,
   "metadata": {},
   "outputs": [],
   "source": [
    "## TASK 3\n",
    "import pandas as pd\n",
    "import glob\n",
    "import os\n",
    "import matplotlib.pyplot as plt\n",
    "\n",
    "\n",
    "DATA_PATH1 = \"data/DayAheadPrices_12.1.D/\"\n",
    "DATA_PATH2 = \"data/PhysicalFlows_12.1.G/\"\n",
    "\n",
    "file_pattern1 = os.path.join(DATA_PATH1, \"*.csv\")\n",
    "file_pattern2 = os.path.join(DATA_PATH2, \"*.csv\")\n",
    "\n",
    "file_list1 = glob.glob(file_pattern1)\n",
    "file_list2 = glob.glob(file_pattern2)\n",
    "\n",
    "dataframes_day_ahead = []\n",
    "dataframes_physical_flows = []\n",
    "\n",
    "\n",
    "for file in file_list1:\n",
    "    df = pd.read_csv(file, sep=\"\\t\", parse_dates=[\"DateTime\"])\n",
    "    dataframes_day_ahead.append(df)\n",
    "for file in file_list2:\n",
    "    df = pd.read_csv(file, sep=\"\\t\", parse_dates=[\"DateTime\"])\n",
    "    dataframes_physical_flows.append(df)\n",
    "\n",
    "\n",
    "data_day_ahead = pd.concat(dataframes_day_ahead)\n",
    "data_physical_flows = pd.concat(dataframes_physical_flows)\n",
    "\n",
    "\n",
    "\"\"\"\n",
    "another way proposed by chatgpt, remove later. \n",
    "## TASK 3\n",
    "import pandas as pd\n",
    "import glob\n",
    "import os\n",
    "import matplotlib.pyplot as plt\n",
    "\n",
    "\n",
    "DATA_PATH1 = \"data/DayAheadPrices_12.1.D/\"\n",
    "DATA_PATH2 = \"data/PhysicalFlows_12.1.G/\"\n",
    "\n",
    "file_pattern1 = os.path.join(DATA_PATH1, \"*.csv\")\n",
    "file_pattern2 = os.path.join(DATA_PATH2, \"*.csv\")\n",
    "\n",
    "file_list1 = glob.glob(file_pattern1)\n",
    "file_list2 = glob.glob(file_pattern2)\n",
    "\n",
    "dataframes_day_ahead = []\n",
    "dataframes_physical_flows = []\n",
    "\n",
    "\n",
    "for file in file_list1:\n",
    "    df = pd.read_csv(file, sep=\"\\t\", parse_dates=[\"DateTime\"])\n",
    "    dataframes_day_ahead.append(df)\n",
    "for file in file_list2:\n",
    "    df = pd.read_csv(file, sep=\"\\t\", parse_dates=[\"DateTime\"])\n",
    "    dataframes_physical_flows.append(df)\n",
    "\n",
    "\n",
    "data_day_ahead = pd.concat(dataframes_day_ahead)\n",
    "data_physical_flows = pd.concat(dataframes_physical_flows)\n",
    "\"\"\" "
   ]
  },
  {
   "cell_type": "markdown",
   "metadata": {},
   "source": [
    "**Step 2 - Limiting in- and outflows to NO2 and DE_LU**"
   ]
  },
  {
   "cell_type": "code",
   "execution_count": 38,
   "metadata": {},
   "outputs": [],
   "source": [
    "import matplotlib.pyplot as plt\n",
    "\n",
    "df = data_physical_flows\n",
    "\n",
    "df_exports = df[(df[\"InMapCode\"] == \"DE_LU\") & (df[\"OutMapCode\"] == \"NO2\")]  # Norway exporting to Germany\n",
    "df_imports = df[(df[\"InMapCode\"] == \"NO2\") & (df[\"OutMapCode\"] == \"DE_LU\")]  # Norway importing from Germany\n",
    "\n",
    "df_imports = df_imports.set_index(\"DateTime\")\n",
    "df_exports = df_exports.set_index(\"DateTime\")\n",
    "\n"
   ]
  },
  {
   "cell_type": "markdown",
   "metadata": {},
   "source": [
    "**Step 3 - Seperating data by year, and inflow/outflow**"
   ]
  },
  {
   "cell_type": "code",
   "execution_count": 39,
   "metadata": {},
   "outputs": [],
   "source": [
    "years = [\"2019\", \"2020\", \"2021\", \"2022\", \"2023\"]\n",
    "\n",
    "\n",
    "df_exports_by_year = {}\n",
    "df_imports_by_year = {}\n",
    "\n",
    "\n",
    "for year in years:\n",
    "    if year in df_exports.index:\n",
    "        df_exports_by_year[year] = df_exports.loc[year]\n",
    "    if year in df_imports.index:\n",
    "        df_imports_by_year[year] = df_imports.loc[year]\n",
    "        \n",
    "\n"
   ]
  },
  {
   "cell_type": "markdown",
   "metadata": {},
   "source": [
    "**Step 4 - Calculating the annual sums of exports and imports**"
   ]
  },
  {
   "cell_type": "code",
   "execution_count": 40,
   "metadata": {},
   "outputs": [],
   "source": [
    "# Initialize dictionaries to store the summed values\n",
    "value_exports_by_year = {}\n",
    "value_imports_by_year = {}\n",
    "\n",
    "# Loop through each year and calculate the annual sums if the data exists\n",
    "for year in years:\n",
    "    # Sum exports if data is available for the year\n",
    "    if year in df_exports_by_year:\n",
    "        value_exports_by_year[year] = df_exports_by_year[year][\"FlowValue\"].sum()\n",
    "    \n",
    "    # Sum imports if data is available for the year\n",
    "    if year in df_imports_by_year:\n",
    "        value_imports_by_year[year] = df_imports_by_year[year][\"FlowValue\"].sum()"
   ]
  },
  {
   "cell_type": "markdown",
   "metadata": {},
   "source": [
    "**Step 5 - Preparing the data for plotting by ensuring that each year has a corresponding export or import value**"
   ]
  },
  {
   "cell_type": "code",
   "execution_count": 41,
   "metadata": {},
   "outputs": [],
   "source": [
    "# Prepare data for plotting\n",
    "years = [2019, 2020, 2021, 2022, 2023]\n",
    "\n",
    "# Retrieve export and import values for each year, or use 0 if data is missing\n",
    "value_exports = [value_exports_by_year.get(str(year), 0) for year in years]\n",
    "value_imports = [value_imports_by_year.get(str(year), 0) for year in years]\n"
   ]
  },
  {
   "cell_type": "markdown",
   "metadata": {},
   "source": [
    "**Step 6 - Plotting the data and saving the plot as a seperate png file**"
   ]
  },
  {
   "cell_type": "code",
   "execution_count": 42,
   "metadata": {},
   "outputs": [
    {
     "data": {
      "image/png": "[encoded data removed]",
      "text/plain": [
       "<Figure size 1000x600 with 1 Axes>"
      ]
     },
     "metadata": {},
     "output_type": "display_data"
    }
   ],
   "source": [
    "fig, ax = plt.subplots(figsize=(10, 6))\n",
    "\n",
    "# Set the bar width\n",
    "bar_width = 0.35\n",
    "\n",
    "# Create bar plots for exports and imports\n",
    "ax.bar([year - bar_width/2 for year in years], value_exports, width=bar_width, label=\"Exports\", color='blue')\n",
    "ax.bar([year + bar_width/2 for year in years], value_imports, width=bar_width, label=\"Imports\", color='orange')\n",
    "\n",
    "# Adding labels and title\n",
    "ax.set_xlabel('Year')\n",
    "ax.set_ylabel('Total Flow Value (In millions)')\n",
    "ax.set_title('Annual Exports and Imports (2019-2023)')\n",
    "ax.set_xticks(years)\n",
    "ax.legend()\n",
    "\n",
    "# Save the plot as a PNG file\n",
    "plt.savefig(\"figure_task3.png\", format='png', dpi=300)  \n",
    "\n",
    "# Show the plot\n",
    "plt.show()"
   ]
  },
  {
   "cell_type": "code",
   "execution_count": null,
   "metadata": {},
   "outputs": [],
   "source": []
  }
 ],
 "metadata": {
  "kernelspec": {
   "display_name": "Python 3 (ipykernel)",
   "language": "python",
   "name": "python3"
  },
  "language_info": {
   "codemirror_mode": {
    "name": "ipython",
    "version": 3
   },
   "file_extension": ".py",
   "mimetype": "text/x-python",
   "name": "python",
   "nbconvert_exporter": "python",
   "pygments_lexer": "ipython3",
   "version": "3.12.4"
  }
 },
 "nbformat": 4,
 "nbformat_minor": 4
}
