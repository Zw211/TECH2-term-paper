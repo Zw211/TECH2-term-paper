{
 "cells": [
  {
   "cell_type": "code",
   "execution_count": 3,
   "id": "a0bfcb31-fa83-44f8-a50e-2823c3a05208",
   "metadata": {},
   "outputs": [],
   "source": [
    "## TASK 1\n",
    "import pandas as pd\n",
    "import glob\n",
    "import os\n",
    "\n",
    "DATA_PATH1 = \"data/DayAheadPrices_12.1.D/\"\n",
    "DATA_PATH2 = \"data/PhysicalFlows_12.1.G/\"\n",
    "\n",
    "file_pattern1 = os.path.join(DATA_PATH1, \"*.csv\")\n",
    "file_pattern2 = os.path.join(DATA_PATH2, \"*.csv\")\n",
    "\n",
    "def import_csv_files():\n",
    "    file_list1 = glob.glob(file_pattern1)\n",
    "    file_list2 = glob.glob(file_pattern2)\n",
    "    \n",
    "    dataframes_day_ahead = []\n",
    "    dataframes_physical_flows = []\n",
    "    \n",
    "    \n",
    "    for file in file_list1:\n",
    "        df = pd.read_csv(file, sep=\"\\t\", parse_dates=[\"DateTime\"])\n",
    "        dataframes_day_ahead.append(df)\n",
    "    for file in file_list2:\n",
    "        df = pd.read_csv(file, sep=\"\\t\", parse_dates=[\"DateTime\"])\n",
    "        dataframes_physical_flows.append(df)\n",
    "    \n",
    "    data_day_ahead = pd.concat(dataframes_day_ahead, ignore_index=True)\n",
    "    data_physical_flows = pd.concat(dataframes_physical_flows, ignore_index=True)\n",
    "    return data_day_ahead, data_physical_flows"
   ]
  }
 ],
 "metadata": {
  "kernelspec": {
   "display_name": "Python 3 (ipykernel)",
   "language": "python",
   "name": "python3"
  },
  "language_info": {
   "codemirror_mode": {
    "name": "ipython",
    "version": 3
   },
   "file_extension": ".py",
   "mimetype": "text/x-python",
   "name": "python",
   "nbconvert_exporter": "python",
   "pygments_lexer": "ipython3",
   "version": "3.12.4"
  }
 },
 "nbformat": 4,
 "nbformat_minor": 5
}
