{
 "cells": [
  {
   "cell_type": "code",
   "execution_count": 1,
   "id": "2b53b062-1aef-48d2-9676-7d1664289461",
   "metadata": {},
   "outputs": [],
   "source": [
    "%run import_files.ipynb\n",
    "\n",
    "data_day_ahead, data_physical_flows = import_csv_files()"
   ]
  }
 ],
 "metadata": {
  "kernelspec": {
   "display_name": "Python 3 (ipykernel)",
   "language": "python",
   "name": "python3"
  },
  "language_info": {
   "codemirror_mode": {
    "name": "ipython",
    "version": 3
   },
   "file_extension": ".py",
   "mimetype": "text/x-python",
   "name": "python",
   "nbconvert_exporter": "python",
   "pygments_lexer": "ipython3",
   "version": "3.12.4"
  }
 },
 "nbformat": 4,
 "nbformat_minor": 5
}
